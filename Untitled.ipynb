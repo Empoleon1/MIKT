{
 "cells": [
  {
   "cell_type": "markdown",
   "metadata": {},
   "source": [
    "Филтрирање на слика во фреквенциски домен\n",
    "Теорија\n",
    "За да филтрираме слика во фреквенциски домен потребно е да ја помножиме сликата во фреквенциски домен со филтерот (кернел) кој е исто така во фреквенциски домен.\n",
    "\n",
    "$$I_{f,filt} = HI_f$$\n",
    "За таа цел потребно е да се вметне Octave функција која ќе креира “Band pass gaussian filter” во фреквенциски домен. Bandpass гаусовиот филтер во фреквенциски домен е дефиниран со равенката:\n",
    "\n",
    "$$H(i,j)=e^{-\\dfrac{d(i,j)^2}{f_{h}^{2}}}\\left(1-e^{-\\dfrac{d(i,j)^2}{f_{l}^{2}}}\\right)$$\n",
    "Каде што $d(i,j)$ е евклидовото растојанието на даден пиксел од центарот на сликата, додека $f_h$ и $f_l$ се праговите на високите и ниските фреквенции кои сакаме да ги филтрираме. Конверзија на 2D сликата од просторен во фреквенциски домен се прави со користење на Фуриева трансформација. Фуриевата трансформација е дефинирана како:\n",
    "\n",
    "$$F(u,v)=\\underset{-\\infty}\\iint^{\\infty}f(x,y)e^{-i2\\pi(ux+vy)}dxdy$$\n",
    "А во дискретниот домен горната равенка може да биде преведена како\n",
    "\n",
    "$$F(u,v) = \\displaystyle\\sum_{m=-\\infty}^{\\infty} \\sum_{n=-\\infty}^{\\infty} f[m,n] \\cdot e^ {-i2\\pi(umx_0+vny_0)}$$\n",
    "Конверзија на 2D сликата од фреквенциски во просторен домен се прави со користење на инверзна Фуриева трансформација. Инверзната Фуриева трансформација е дефинирана како:\n",
    "\n",
    "$$f(x,y)=\\underset{-\\infty}\\iint^{\\infty}F(u,v)e^{i2\\pi(ux+vy)}dudv$$\n",
    "А во дискретниот домен горната равенка може да биде преведена како\n",
    "\n",
    "$$F(x,y) = \\displaystyle\\sum_{m=-\\infty}^{\\infty} \\sum_{n=-\\infty}^{\\infty} f[m,n] \\cdot e^ {i2\\pi(xmu_0+ynv_0)}$$"
   ]
  },
  {
   "cell_type": "code",
   "execution_count": null,
   "metadata": {},
   "outputs": [],
   "source": []
  }
 ],
 "metadata": {
  "kernelspec": {
   "display_name": "Python 3",
   "language": "python",
   "name": "python3"
  },
  "language_info": {
   "codemirror_mode": {
    "name": "ipython",
    "version": 3
   },
   "file_extension": ".py",
   "mimetype": "text/x-python",
   "name": "python",
   "nbconvert_exporter": "python",
   "pygments_lexer": "ipython3",
   "version": "3.6.7"
  }
 },
 "nbformat": 4,
 "nbformat_minor": 2
}
